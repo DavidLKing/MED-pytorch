{
 "cells": [
  {
   "cell_type": "code",
   "execution_count": 1,
   "metadata": {},
   "outputs": [],
   "source": [
    "import difflib\n",
    "import pandas as pd\n",
    "\n",
    "from affixcheck import affixes"
   ]
  },
  {
   "cell_type": "code",
   "execution_count": 2,
   "metadata": {},
   "outputs": [],
   "source": [
    "a = affixes()"
   ]
  },
  {
   "cell_type": "code",
   "execution_count": 3,
   "metadata": {},
   "outputs": [],
   "source": [
    "def gen_paradigms(unis):\n",
    "    paradigms = {}\n",
    "    for line in unis:\n",
    "        line = line.strip().split('\\t')\n",
    "        if len(line) > 1:\n",
    "            assert(len(line) == 3)\n",
    "            lemma = line[0]\n",
    "            word = line[1]\n",
    "            features = line[2]\n",
    "            if lemma not in paradigms:\n",
    "                paradigms[lemma] = {}\n",
    "            if features not in paradigms[lemma]:\n",
    "                paradigms[lemma][features] = word\n",
    "    return paradigms"
   ]
  },
  {
   "cell_type": "code",
   "execution_count": 4,
   "metadata": {},
   "outputs": [],
   "source": [
    "def get_errors(outputs):\n",
    "    errors = []\n",
    "    for line in outputs:\n",
    "        line = line.strip().split('\\t')\n",
    "        if len(line) == 3:\n",
    "            if line[1] != line[2]:\n",
    "                errors.append(line)\n",
    "    return errors"
   ]
  },
  {
   "cell_type": "code",
   "execution_count": 65,
   "metadata": {},
   "outputs": [],
   "source": [
    "unimorph = open('data/russian/rus-fake-train.tsv', 'r')\n",
    "vecs = open('russian-w-vecs.tsv', 'r')\n",
    "novecs = open('russian-no-vecs.tsv', 'r')\n",
    "paradigms = gen_paradigms(unimorph)\n",
    "vec_errors = get_errors(vecs)\n",
    "novec_errors = get_errors(novecs)"
   ]
  },
  {
   "cell_type": "code",
   "execution_count": 39,
   "metadata": {},
   "outputs": [],
   "source": [
    "def get_cite(form_list):\n",
    "    input_forms = []\n",
    "    for cite in form_list:\n",
    "        cite_input = []\n",
    "        cite = cite.split(' ')\n",
    "        for elem in cite:\n",
    "            if '=' not in elem:\n",
    "                cite_input.append(elem)\n",
    "        input_forms.append(''.join(cite_input))\n",
    "    return input_forms"
   ]
  },
  {
   "cell_type": "code",
   "execution_count": 80,
   "metadata": {},
   "outputs": [],
   "source": [
    "def class_error(conj_class, affixes):\n",
    "    class_error = False\n",
    "    for affix in affixes:\n",
    "        if conj_class in ['е-conj', 'ё-conj']:\n",
    "            if '-е' in affix or '-ё' in affix or '+и' in affix:\n",
    "                class_error = True\n",
    "        elif conj_class == 'и-conj':\n",
    "            if '-и' in affix or '+ё' in affix:\n",
    "                class_error = True\n",
    "    return class_error"
   ]
  },
  {
   "cell_type": "code",
   "execution_count": 86,
   "metadata": {},
   "outputs": [],
   "source": [
    "def get_verb_class(inputs, golds, preds, paradigms):\n",
    "    missing = 0\n",
    "    total = 0\n",
    "    error = 0\n",
    "    class_errors = 0\n",
    "    for cite, form, pred in zip(inputs, golds, preds):\n",
    "        total += 1\n",
    "        form = ''.join(form.split(' '))\n",
    "        pred = ''.join(pred.split(' '))\n",
    "        if cite in paradigms:\n",
    "            inform = 'V;PRS;2;SG'\n",
    "            if inform in paradigms[cite]:\n",
    "                second_sing = paradigms[cite][inform]\n",
    "                _, _, _, affixes = a.diffasstring(cite, second_sing)\n",
    "                _, _, _, pred_affixes = a.diffasstring(cite, pred)\n",
    "                _, _, _, form_affixes = a.diffasstring(cite, form)\n",
    "                _, _, _, diff_affixes = a.diffasstring(form, pred)\n",
    "                for affix in affixes:\n",
    "                    if '+е' in affix:\n",
    "                        conj_class = 'е-conj'\n",
    "                        error_type = class_error(conj_class, diff_affixes)\n",
    "                    elif '+ё' in affix:\n",
    "                        conj_class = 'ё-conj'\n",
    "                        error_type = class_error(conj_class, diff_affixes)\n",
    "                    else:\n",
    "                        conj_class = 'и-conj'\n",
    "                        error_type = class_error(conj_class, diff_affixes)\n",
    "                # print(cite, second_sing, conj_class, form, pred, error_type, diff_affixes )\n",
    "                # pdb.set_trace()\n",
    "                if error_type:\n",
    "                    class_errors += 1\n",
    "            else:\n",
    "                missing += 1\n",
    "        else:\n",
    "            error += 1\n",
    "    print(\"Missing\", missing, \"of\", total)\n",
    "    print(\"Missing\", error, \"citation forms (errors)\")\n",
    "    print(\"Total class error detected:\", class_errors, \"or\", class_errors / (total - missing))"
   ]
  },
  {
   "cell_type": "code",
   "execution_count": 87,
   "metadata": {},
   "outputs": [
    {
     "name": "stdout",
     "output_type": "stream",
     "text": [
      "Missing 171 of 271\n",
      "Missing 0 citation forms (errors)\n",
      "Total class error detected: 45 or 0.45\n"
     ]
    }
   ],
   "source": [
    "v_errors = pd.DataFrame(vec_errors, columns=['input', 'gold', 'pred'])\n",
    "verbs = v_errors[v_errors['input'].str.match('OUT=V')]\n",
    "inputs = get_cite(list(verbs['input']))\n",
    "golds = list(verbs['gold'])\n",
    "preds = list(verbs['pred'])\n",
    "get_verb_class(inputs, golds, preds, paradigms)"
   ]
  },
  {
   "cell_type": "code",
   "execution_count": 88,
   "metadata": {},
   "outputs": [
    {
     "name": "stdout",
     "output_type": "stream",
     "text": [
      "Missing 178 of 299\n",
      "Missing 0 citation forms (errors)\n",
      "Total class error detected: 57 or 0.47107438016528924\n"
     ]
    }
   ],
   "source": [
    "nv_errors = pd.DataFrame(novec_errors, columns=['input', 'gold', 'pred'])\n",
    "verbs = nv_errors[nv_errors['input'].str.match('OUT=V')]\n",
    "inputs = get_cite(list(verbs['input']))\n",
    "golds = list(verbs['gold'])\n",
    "preds = list(verbs['pred'])\n",
    "get_verb_class(inputs, golds, preds, paradigms)"
   ]
  }
 ],
 "metadata": {
  "kernelspec": {
   "display_name": "Python 3",
   "language": "python",
   "name": "python3"
  },
  "language_info": {
   "codemirror_mode": {
    "name": "ipython",
    "version": 3
   },
   "file_extension": ".py",
   "mimetype": "text/x-python",
   "name": "python",
   "nbconvert_exporter": "python",
   "pygments_lexer": "ipython3",
   "version": "3.6.6"
  },
  "varInspector": {
   "cols": {
    "lenName": 16,
    "lenType": 16,
    "lenVar": 40
   },
   "kernels_config": {
    "python": {
     "delete_cmd_postfix": "",
     "delete_cmd_prefix": "del ",
     "library": "var_list.py",
     "varRefreshCmd": "print(var_dic_list())"
    },
    "r": {
     "delete_cmd_postfix": ") ",
     "delete_cmd_prefix": "rm(",
     "library": "var_list.r",
     "varRefreshCmd": "cat(var_dic_list()) "
    }
   },
   "types_to_exclude": [
    "module",
    "function",
    "builtin_function_or_method",
    "instance",
    "_Feature"
   ],
   "window_display": false
  }
 },
 "nbformat": 4,
 "nbformat_minor": 1
}
