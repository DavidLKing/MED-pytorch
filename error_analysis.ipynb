{
 "cells": [
  {
   "cell_type": "code",
   "execution_count": 1,
   "metadata": {},
   "outputs": [],
   "source": [
    "import difflib\n",
    "import pandas as pd\n",
    "\n",
    "from affixcheck import affixes"
   ]
  },
  {
   "cell_type": "code",
   "execution_count": 3,
   "metadata": {},
   "outputs": [],
   "source": [
    "a = affixes()"
   ]
  },
  {
   "cell_type": "code",
   "execution_count": 4,
   "metadata": {},
   "outputs": [],
   "source": [
    "def gen_paradigms(unis):\n",
    "    paradigms = {}\n",
    "    for line in unis:\n",
    "        line = line.strip().split('\\t')\n",
    "        if len(line) > 1:\n",
    "            assert(len(line) == 3)\n",
    "            # TODO fix space bug\n",
    "            # if lemma == 'геркулесоваякаша':\n",
    "            # should be геркулесовая каша\n",
    "            #     pdb.set_trace()\n",
    "            lemma = line[0].replace(' ', '')\n",
    "            word = line[1].replace(' ', '')\n",
    "            features = line[2]\n",
    "            if lemma not in paradigms:\n",
    "                paradigms[lemma] = {}\n",
    "            if features not in paradigms[lemma]:\n",
    "                paradigms[lemma][features] = word\n",
    "    return paradigms"
   ]
  },
  {
   "cell_type": "code",
   "execution_count": 5,
   "metadata": {},
   "outputs": [],
   "source": [
    "def get_errors(outputs):\n",
    "    errors = []\n",
    "    for line in outputs:\n",
    "        line = line.strip().split('\\t')\n",
    "        if len(line) == 3:\n",
    "            if line[1] != line[2]:\n",
    "                errors.append(line)\n",
    "    return errors"
   ]
  },
  {
   "cell_type": "code",
   "execution_count": 6,
   "metadata": {},
   "outputs": [],
   "source": [
    "unimorph = open('data/russian/rus-fake-train.tsv', 'r')\n",
    "train = open('data/russian/train/data.txt', 'r')\n",
    "dev = open('data/russian/dev/data.txt', 'r')\n",
    "vecs = open('russian-w-vecs.tsv', 'r')\n",
    "novecs = open('russian-no-vecs.tsv', 'r')\n",
    "paradigms = gen_paradigms(unimorph)\n",
    "vec_errors = get_errors(vecs)\n",
    "novec_errors = get_errors(novecs)"
   ]
  },
  {
   "cell_type": "code",
   "execution_count": 7,
   "metadata": {},
   "outputs": [],
   "source": [
    "def get_cite(form_list):\n",
    "    input_forms = []\n",
    "    for cite in form_list:\n",
    "        cite_input = []\n",
    "        cite = cite.split(' ')\n",
    "        for elem in cite:\n",
    "            if '=' not in elem:\n",
    "                cite_input.append(elem)\n",
    "        input_forms.append(''.join(cite_input))\n",
    "    return input_forms"
   ]
  },
  {
   "cell_type": "code",
   "execution_count": 8,
   "metadata": {},
   "outputs": [],
   "source": [
    "def input_to_vars(line):\n",
    "    lemma = []\n",
    "    features = []\n",
    "    word = []\n",
    "    for char in line[0].split(' '):\n",
    "        # TODO fix space bug\n",
    "        # if lemma == 'геркулесоваякаша':\n",
    "        # should be геркулесовая каша\n",
    "        #     pdb.set_trace()\n",
    "        if '=' not in char:\n",
    "            # if char == '':\n",
    "                # char = char.replace('', ' ')\n",
    "            lemma.append(char)\n",
    "        else:\n",
    "            features.append(char)\n",
    "    lemma = ''.join(lemma)\n",
    "    for char in line[1].split(' '):\n",
    "        # if char == '':\n",
    "            # char = char.replace('', ' ')\n",
    "        word.append(char)\n",
    "    word = ''.join(word)\n",
    "    return lemma, features, word"
   ]
  },
  {
   "cell_type": "code",
   "execution_count": 9,
   "metadata": {},
   "outputs": [],
   "source": [
    "def i_e_counts(unimorph, paradigms):\n",
    "    i_count = 0\n",
    "    e_count = 0\n",
    "    unimorph.seek(0)\n",
    "    for line in unimorph:\n",
    "        line = line.strip().split('\\t')\n",
    "        if len(line) > 1:\n",
    "            assert(len(line) == 2)\n",
    "            lemma, features, word = input_to_vars(line)\n",
    "            if \"OUT=V\" in features:\n",
    "                inform = 'V;PRS;2;SG'\n",
    "                if inform in paradigms[lemma]:\n",
    "                    second_sing = paradigms[lemma][inform]\n",
    "                    _, _, _, affixes = a.diffasstring(lemma, second_sing)\n",
    "                    for affix in affixes:\n",
    "                        if '+е' in affix or '+ё' in affix:\n",
    "                            e_count += 1\n",
    "                        else:\n",
    "                            i_count += 1\n",
    "    return i_count, e_count\n",
    "                "
   ]
  },
  {
   "cell_type": "code",
   "execution_count": 10,
   "metadata": {},
   "outputs": [],
   "source": [
    "def class_error(conj_class, affixes):\n",
    "    class_error = False\n",
    "    for affix in affixes:\n",
    "        if conj_class in ['е-conj', 'ё-conj']:\n",
    "            if '-е' in affix or '-ё' in affix or '+и' in affix:\n",
    "                class_error = True\n",
    "        elif conj_class == 'и-conj':\n",
    "            if '-и' in affix or '+ё' in affix:\n",
    "                class_error = True\n",
    "    return class_error"
   ]
  },
  {
   "cell_type": "code",
   "execution_count": 11,
   "metadata": {},
   "outputs": [],
   "source": [
    "def get_verb_class(inputs, golds, preds, paradigms, i_class_total, e_class_total):\n",
    "    missing = 0\n",
    "    total = 0\n",
    "    error = 0\n",
    "    class_errors = 0\n",
    "    i_class_errors = 0\n",
    "    e_class_errors = 0\n",
    "    \n",
    "    for cite, form, pred in zip(inputs, golds, preds):\n",
    "        total += 1\n",
    "        form = ''.join(form.split(' '))\n",
    "        pred = ''.join(pred.split(' '))\n",
    "        if cite in paradigms:\n",
    "            inform = 'V;PRS;2;SG'\n",
    "            if inform in paradigms[cite]:\n",
    "                second_sing = paradigms[cite][inform]\n",
    "                _, _, _, affixes = a.diffasstring(cite, second_sing)\n",
    "                _, _, _, pred_affixes = a.diffasstring(cite, pred)\n",
    "                _, _, _, form_affixes = a.diffasstring(cite, form)\n",
    "                _, _, _, diff_affixes = a.diffasstring(form, pred)\n",
    "                for affix in affixes:\n",
    "                    if '+е' in affix:\n",
    "                        conj_class = 'е-conj'\n",
    "                        error_type = class_error(conj_class, diff_affixes)\n",
    "                        e_class_errors += 1\n",
    "                    elif '+ё' in affix:\n",
    "                        conj_class = 'ё-conj'\n",
    "                        error_type = class_error(conj_class, diff_affixes)\n",
    "                        e_class_errors += 1\n",
    "                    else:\n",
    "                        conj_class = 'и-conj'\n",
    "                        error_type = class_error(conj_class, diff_affixes)\n",
    "                        i_class_errors += 1\n",
    "                # print(cite, second_sing, conj_class, form, pred, error_type, diff_affixes )\n",
    "                # pdb.set_trace()\n",
    "                if error_type:\n",
    "                    class_errors += 1\n",
    "            else:\n",
    "                missing += 1\n",
    "        else:\n",
    "            error += 1\n",
    "    \n",
    "    print(\"Missing\", missing, \"of\", total)\n",
    "    print(\"Total found\", total - missing)\n",
    "    print(\"Missing\", error, \"citation forms (errors)\")\n",
    "    print(\"Total class error detected:\", class_errors, \"or\", class_errors / (total - missing))\n",
    "    print(\"i_conj\", i_class_errors, i_class_errors / (total - missing))\n",
    "    print(\"i_conj error rate\", i_class_errors / i_class_total)\n",
    "    print(\"i_conj total\", i_class_total)\n",
    "    print(\"e_conj\", e_class_errors, e_class_errors / (total - missing))\n",
    "    print(\"e_conj error rate\", e_class_errors / e_class_total)\n",
    "    print(\"e_conj total\", e_class_total)"
   ]
  },
  {
   "cell_type": "markdown",
   "metadata": {},
   "source": [
    "_Verbs!_"
   ]
  },
  {
   "cell_type": "code",
   "execution_count": 12,
   "metadata": {},
   "outputs": [
    {
     "name": "stdout",
     "output_type": "stream",
     "text": [
      "Total i_conj in train: 229\n",
      "Total e_conj in train: 1614\n"
     ]
    }
   ],
   "source": [
    "train_i, train_e = i_e_counts(train, paradigms)\n",
    "print(\"Total i_conj in train:\", train_i)\n",
    "print(\"Total e_conj in train:\", train_e)"
   ]
  },
  {
   "cell_type": "markdown",
   "metadata": {},
   "source": [
    "```\n",
    "grep OUT=V data/russian/train/data.txt | wc -l\n",
    "3690\n",
    "```"
   ]
  },
  {
   "cell_type": "code",
   "execution_count": 13,
   "metadata": {},
   "outputs": [],
   "source": [
    "i_class_total, e_class_total = i_e_counts(dev, paradigms)"
   ]
  },
  {
   "cell_type": "code",
   "execution_count": 14,
   "metadata": {},
   "outputs": [
    {
     "name": "stdout",
     "output_type": "stream",
     "text": [
      "Missing 670 of 1087\n",
      "Total found 417\n",
      "Missing 0 citation forms (errors)\n",
      "Total class error detected: 141 or 0.3381294964028777\n",
      "i_conj 161 0.38609112709832133\n",
      "i_conj error rate 0.312015503875969\n",
      "i_conj total 516\n",
      "e_conj 273 0.6546762589928058\n",
      "e_conj error rate 0.0855531181447822\n",
      "e_conj total 3191\n"
     ]
    }
   ],
   "source": [
    "v_errors = pd.DataFrame(vec_errors, columns=['input', 'gold', 'pred'])\n",
    "verbs = v_errors[v_errors['input'].str.match('OUT=V')]\n",
    "inputs = get_cite(list(verbs['input']))\n",
    "golds = list(verbs['gold'])\n",
    "preds = list(verbs['pred'])\n",
    "get_verb_class(inputs, golds, preds, paradigms, i_class_total, e_class_total)"
   ]
  },
  {
   "cell_type": "code",
   "execution_count": 15,
   "metadata": {},
   "outputs": [
    {
     "name": "stdout",
     "output_type": "stream",
     "text": [
      "Missing 716 of 1290\n",
      "Total found 574\n",
      "Missing 0 citation forms (errors)\n",
      "Total class error detected: 246 or 0.42857142857142855\n",
      "i_conj 163 0.28397212543554007\n",
      "i_conj error rate 0.31589147286821706\n",
      "i_conj total 516\n",
      "e_conj 430 0.7491289198606271\n",
      "e_conj error rate 0.1347539956126606\n",
      "e_conj total 3191\n"
     ]
    }
   ],
   "source": [
    "nv_errors = pd.DataFrame(novec_errors, columns=['input', 'gold', 'pred'])\n",
    "verbs = nv_errors[nv_errors['input'].str.match('OUT=V')]\n",
    "inputs = get_cite(list(verbs['input']))\n",
    "golds = list(verbs['gold'])\n",
    "preds = list(verbs['pred'])\n",
    "get_verb_class(inputs, golds, preds, paradigms, i_class_total, e_class_total)"
   ]
  },
  {
   "cell_type": "markdown",
   "metadata": {},
   "source": [
    "_Nouns!_"
   ]
  },
  {
   "cell_type": "code",
   "execution_count": 16,
   "metadata": {},
   "outputs": [],
   "source": [
    "class Gender:\n",
    "    def __init__(self, masc, fem, neut, masc_fem, nost):\n",
    "        self.masc = masc\n",
    "        self.fem = fem\n",
    "        self.neut = neut\n",
    "        self.masc_fem = masc_fem\n",
    "        self.nost = nost\n",
    "        \n",
    "masc = {'б', 'в', 'г', 'д', 'ж', 'з', 'й', 'к', 'л', 'м', 'н', 'п', 'р', 'с', 'т', 'ф', 'х', 'ч', 'ц', 'ш','щ'}\n",
    "fem = {'а', 'я'}\n",
    "neut = {'о', 'е'}\n",
    "masc_fem = {'ь'}\n",
    "nost = {'ность', 'ость'}\n",
    "classes = Gender(masc, fem, neut, masc_fem, nost)"
   ]
  },
  {
   "cell_type": "code",
   "execution_count": 39,
   "metadata": {},
   "outputs": [],
   "source": [
    "def anim_error(lemma, form, single, paradigms, error_total, error_count, found_count):\n",
    "#     error = 'not found'\n",
    "    \n",
    "    if single:\n",
    "        inform_acc = 'N;ACC;SG'\n",
    "        inform_nom = 'N;NOM;SG'\n",
    "        inform_gen = 'N;GEN;SG'\n",
    "    else:\n",
    "        inform_acc = 'N;ACC;PL'\n",
    "        inform_nom = 'N;NOM;PL'\n",
    "        inform_gen = 'N;GEN;PL'\n",
    "    \n",
    "    if lemma in paradigms:\n",
    "        if inform_acc in paradigms[lemma] and \\\n",
    "           inform_gen in paradigms[lemma] and \\\n",
    "           inform_nom in paradigms[lemma]:\n",
    "            # print(form, paradigms[lemma][inform_acc])\n",
    "            # assert(paradigms[lemma][inform_acc] != form)\n",
    "            if form[-2:] != paradigms[lemma][inform_acc][-2:]:\n",
    "                if form[-1:] == paradigms[lemma][inform_gen][-2:] or \\\n",
    "                   form[-2:] == paradigms[lemma][inform_nom][-2:]:\n",
    "                    # if (paradigms[lemma][inform_gen] == paradigms[lemma][inform_acc]) or \\\n",
    "                    #    (paradigms[lemma][inform_nom] == paradigms[lemma][inform_acc]):\n",
    "                    # anim_error = 'anim'\n",
    "                    error_count += 1\n",
    "                    found_count += 1\n",
    "                    error_total += 1\n",
    "            elif form[-2:] != paradigms[lemma][inform_gen][-2:] and \\\n",
    "                 form[-2:] != paradigms[lemma][inform_nom][-2:]:\n",
    "                    # anim_error = 'other'\n",
    "                    found_count += 1\n",
    "                    error_total += 1\n",
    "            \n",
    "    return error_total, error_count, found_count"
   ]
  },
  {
   "cell_type": "code",
   "execution_count": 40,
   "metadata": {},
   "outputs": [],
   "source": [
    "def class_count(dev, classes):\n",
    "    masc_acc_sg_total = 0\n",
    "    fem_acc_sg_total = 0\n",
    "    neut_acc_sg_total = 0\n",
    "    masc_fem_acc_sg_total = 0\n",
    "    \n",
    "    \n",
    "    masc_acc_pl_total = 0\n",
    "    fem_acc_pl_total = 0\n",
    "    neut_acc_pl_total = 0\n",
    "    masc_fem_acc_pl_total = 0\n",
    "    \n",
    "    nost_acc_pl_total = 0\n",
    "    \n",
    "    dev.seek(0)\n",
    "    \n",
    "    for line in dev:\n",
    "        line = line.split('\\t')\n",
    "        if len(line) == 2:\n",
    "            lemma, features, word = input_to_vars(line)\n",
    "            if 'OUT=N' in features:\n",
    "                if 'OUT=ACC' in features:\n",
    "                    if 'OUT=SG' in features and lemma[-1] in classes.masc:\n",
    "                        masc_acc_sg_total += 1\n",
    "                    elif 'OUT=SG' in features and lemma[-1] in classes.fem:\n",
    "                        fem_acc_sg_total += 1\n",
    "                    elif 'OUT=SG' in features and lemma[-1] in classes.neut:\n",
    "                        neut_acc_sg_total += 1\n",
    "                    elif 'OUT=SG' in features and lemma[-1] in classes.masc_fem:\n",
    "                        masc_fem_acc_sg_total += 1\n",
    "                    elif 'OUT=PL' in features and lemma[-1] in classes.masc:\n",
    "                        masc_acc_pl_total += 1\n",
    "                    elif 'OUT=PL' in features and lemma[-1] in classes.fem:\n",
    "                        fem_acc_pl_total += 1\n",
    "                    elif 'OUT=PL' in features and lemma[-1] in classes.neut:\n",
    "                        neut_acc_pl_total += 1\n",
    "                    elif 'OUT=PL' in features and lemma[-1] in classes.masc_fem:\n",
    "                        masc_fem_acc_pl_total += 1\n",
    "                    if 'OUT=PL' in features and lemma[-4:] in classes.nost:\n",
    "                        nost_acc_pl_total += 1\n",
    "                    elif 'OUT=PL' in features and lemma[-5:] in classes.nost:\n",
    "                        nost_acc_pl_total += 1\n",
    "    return masc_acc_sg_total, fem_acc_sg_total, neut_acc_sg_total, masc_fem_acc_sg_total, masc_acc_pl_total, fem_acc_pl_total, neut_acc_pl_total, masc_fem_acc_pl_total, nost_acc_pl_total\n",
    "    "
   ]
  },
  {
   "cell_type": "code",
   "execution_count": 41,
   "metadata": {},
   "outputs": [
    {
     "data": {
      "text/plain": [
       "(387, 237, 131, 76, 325, 199, 85, 54, 16)"
      ]
     },
     "execution_count": 41,
     "metadata": {},
     "output_type": "execute_result"
    }
   ],
   "source": [
    "class_count(dev, classes)"
   ]
  },
  {
   "cell_type": "code",
   "execution_count": 45,
   "metadata": {},
   "outputs": [],
   "source": [
    "def error_count(errors, train, dev, classes, paradigms):\n",
    "    total = 0\n",
    "    found = 0\n",
    "    \n",
    "    masc_acc_sg_total = 0\n",
    "    fem_acc_sg_total = 0\n",
    "    neut_acc_sg_total = 0\n",
    "    masc_fem_acc_sg_total = 0\n",
    "    masc_acc_pl_total = 0\n",
    "    fem_acc_pl_total = 0\n",
    "    neut_acc_pl_total = 0\n",
    "    masc_fem_acc_pl_total = 0\n",
    "    \n",
    "    \n",
    "\n",
    "    class_counts = class_count(dev, classes)\n",
    "    dev_masc_acc_sg_total = class_counts[0]\n",
    "    dev_fem_acc_sg_total = class_counts[1]\n",
    "    dev_neut_acc_sg_total = class_counts[2]\n",
    "    dev_masc_fem_acc_sg_total = class_counts[3]\n",
    "    dev_masc_acc_pl_total = class_counts[4]\n",
    "    dev_fem_acc_pl_total = class_counts[5]\n",
    "    dev_neut_acc_pl_total = class_counts[6]\n",
    "    dev_masc_fem_acc_pl_total = class_counts[7]\n",
    "    \n",
    "        \n",
    "    masc_acc_sg_anim_error = 0\n",
    "    fem_acc_sg_anim_error = 0\n",
    "    neut_acc_sg_anim_error = 0\n",
    "    masc_fem_acc_sg_anim_error = 0\n",
    "    masc_acc_pl_anim_error = 0\n",
    "    fem_acc_pl_anim_error = 0\n",
    "    neut_acc_pl_anim_error = 0\n",
    "    masc_fem_acc_pl_anim_error = 0\n",
    "    \n",
    "    nost_total = 0\n",
    "    dev_nost = class_counts[8]\n",
    "    nost_anim_error = 0\n",
    "    \n",
    "    \n",
    "    for inputs, gold, pred in zip(errors['input'], errors['gold'], errors['pred']):\n",
    "        lemma, features, form = input_to_vars([inputs, pred])\n",
    "        if \"OUT=N\" in features and \"OUT=ACC\" in features:\n",
    "            total += 1\n",
    "            # print(inputs, gold, pred)\n",
    "            if \"OUT=SG\" in features:\n",
    "                if lemma[-1] in classes.masc:\n",
    "                    masc_acc_sg_total, masc_acc_sg_anim_error, found = anim_error(lemma, \n",
    "                                                                                  form, \n",
    "                                                                                  True, \n",
    "                                                                                  paradigms, \n",
    "                                                                                  masc_acc_sg_total, \n",
    "                                                                                  masc_acc_sg_anim_error, \n",
    "                                                                                  found)\n",
    "                elif lemma[-1] in classes.fem:\n",
    "                    fem_acc_sg_total, fem_acc_sg_anim_error, found = anim_error(lemma, \n",
    "                                                                                  form, \n",
    "                                                                                  True, \n",
    "                                                                                  paradigms, \n",
    "                                                                                  fem_acc_sg_total, \n",
    "                                                                                  fem_acc_sg_anim_error, \n",
    "                                                                                  found)\n",
    "                elif lemma[-1] in classes.neut:\n",
    "                    neut_acc_sg_total, neut_acc_sg_anim_error, found = anim_error(lemma, \n",
    "                                                                                  form, \n",
    "                                                                                  True, \n",
    "                                                                                  paradigms, \n",
    "                                                                                  neut_acc_sg_total, \n",
    "                                                                                  neut_acc_sg_anim_error, \n",
    "                                                                                  found)\n",
    "                elif lemma[-1] in classes.masc_fem:\n",
    "                    masc_fem_acc_sg_total, masc_fem_acc_sg_anim_error, found = anim_error(lemma, \n",
    "                                                                                  form, \n",
    "                                                                                  True, \n",
    "                                                                                  paradigms, \n",
    "                                                                                  masc_fem_acc_sg_total, \n",
    "                                                                                  masc_fem_acc_sg_anim_error, \n",
    "                                                                                  found)\n",
    "            elif \"OUT=PL\" in features:\n",
    "                if lemma[-1] in classes.masc:\n",
    "                    masc_acc_pl_total, masc_acc_pl_anim_error, found = anim_error(lemma, \n",
    "                                                                                  form, \n",
    "                                                                                  False, \n",
    "                                                                                  paradigms, \n",
    "                                                                                  masc_acc_pl_total, \n",
    "                                                                                  masc_acc_pl_anim_error, \n",
    "                                                                                  found)\n",
    "                elif lemma[-1] in classes.fem:\n",
    "                    fem_acc_pl_total, fem_acc_pl_anim_error, found = anim_error(lemma, \n",
    "                                                                                  form, \n",
    "                                                                                  False, \n",
    "                                                                                  paradigms, \n",
    "                                                                                  fem_acc_pl_total, \n",
    "                                                                                  fem_acc_pl_anim_error, \n",
    "                                                                                  found)\n",
    "                elif lemma[-1] in classes.neut:\n",
    "                    neut_acc_pl_total, neut_acc_pl_anim_error, found = anim_error(lemma, \n",
    "                                                                                  form, \n",
    "                                                                                  False, \n",
    "                                                                                  paradigms, \n",
    "                                                                                  neut_acc_pl_total, \n",
    "                                                                                  neut_acc_pl_anim_error, \n",
    "                                                                                  found)\n",
    "                elif lemma[-1] in classes.masc_fem:\n",
    "                    masc_fem_acc_pl_total, masc_fem_acc_pl_anim_error, found = anim_error(lemma, \n",
    "                                                                                  form, \n",
    "                                                                                  True, \n",
    "                                                                                  paradigms, \n",
    "                                                                                  masc_fem_acc_pl_total, \n",
    "                                                                                  masc_fem_acc_pl_anim_error, \n",
    "                                                                                  found)\n",
    "                    \n",
    "                if lemma[-4:] in classes.nost or lemma[-5:] in classes.nost:\n",
    "                    nost_total, nost_anim_error, found = anim_error(lemma, \n",
    "                                                                    form, \n",
    "                                                                    True, \n",
    "                                                                    paradigms, \n",
    "                                                                    nost_total, \n",
    "                                                                    nost_anim_error, \n",
    "                                                                    found)\n",
    "                    print(lemma, form)\n",
    "    \n",
    "    \n",
    "    \n",
    "    \n",
    "    if masc_acc_sg_total > 0:\n",
    "        print(\"masc_acc_sg_anim_error\", masc_acc_sg_anim_error, 'of', dev_masc_acc_sg_total)#masc_acc_sg_anim_error / masc_acc_sg_total)\n",
    "        print(\"masc_acc_sg_total\", masc_acc_sg_total)\n",
    "        print(\"masc_acc_sg_anim_error rate on dev\", masc_acc_sg_anim_error / dev_masc_acc_sg_total)\n",
    "    \n",
    "    if fem_acc_sg_total > 0:\n",
    "        print(\"fem_acc_sg_anim_error\", fem_acc_sg_anim_error, 'of', dev_fem_acc_sg_total)#fem_acc_sg_anim_error / fem_acc_sg_total)\n",
    "        print(\"fem_acc_sg_total\", fem_acc_sg_total)\n",
    "        print(\"fem_acc_sg_anim_error rate on dev\", fem_acc_sg_anim_error / dev_fem_acc_sg_total)\n",
    "    \n",
    "    if neut_acc_sg_total > 0:\n",
    "        print(\"neut_acc_sg_anim_error\", neut_acc_sg_anim_error, 'of', dev_neut_acc_sg_total)#neut_acc_sg_anim_error /neut_acc_sg_total )\n",
    "        print(\"neut_acc_sg_total\", neut_acc_sg_total)\n",
    "        print(\"neut_acc_sg_anim_error rate on dev\", neut_acc_sg_anim_error / dev_neut_acc_sg_total)\n",
    "        \n",
    "    if masc_fem_acc_sg_total > 0:\n",
    "        print(\"masc_fem_acc_sg_anim_error\", masc_fem_acc_sg_anim_error, 'of', dev_masc_fem_acc_sg_total)#neut_acc_sg_anim_error /neut_acc_sg_total )\n",
    "        print(\"masc_fem_acc_sg_total\", masc_fem_acc_sg_total)\n",
    "        print(\"masc_fem_acc_sg_anim_error rate on dev\", masc_fem_acc_sg_anim_error / dev_masc_fem_acc_sg_total)\n",
    "\n",
    "    if masc_acc_pl_total > 0:\n",
    "        print(\"masc_acc_pl_anim_error\", masc_acc_pl_anim_error, 'of', dev_masc_acc_pl_total)#masc_acc_pl_anim_error / masc_acc_pl_total)\n",
    "        print(\"masc_acc_pl_total\", masc_acc_pl_total)\n",
    "        print(\"masc_acc_pl_anim_error rate on dev\", masc_acc_pl_anim_error / dev_masc_acc_pl_total)\n",
    "\n",
    "    if fem_acc_pl_total > 0:\n",
    "        print(\"fem_acc_pl_anim_error\", fem_acc_pl_anim_error, 'of', dev_fem_acc_pl_total)#fem_acc_pl_anim_error / fem_acc_pl_total)\n",
    "        print(\"fem_acc_pl_total\", fem_acc_pl_total)\n",
    "        print(\"fem_acc_pl_anim_error rate on dev\", fem_acc_pl_anim_error / dev_fem_acc_pl_total)\n",
    "\n",
    "    if neut_acc_pl_total > 0:\n",
    "        print(\"neut_acc_pl_anim_error\", neut_acc_pl_anim_error, 'of', dev_neut_acc_pl_total)#neut_acc_pl_anim_error / neut_acc_pl_total)\n",
    "        print(\"neut_acc_pl_total\", neut_acc_pl_total)\n",
    "        print(\"neut_acc_pl_anim_error rate on dev\", neut_acc_pl_anim_error / dev_neut_acc_pl_total)\n",
    "        \n",
    "    if masc_fem_acc_sg_total > 0:\n",
    "        print(\"masc_fem_acc_pl_anim_error\", masc_fem_acc_pl_anim_error, 'of', dev_masc_fem_acc_pl_total)#neut_acc_sg_anim_error /neut_acc_sg_total )\n",
    "        print(\"masc_fem_acc_pl_total\", masc_fem_acc_pl_total)\n",
    "        print(\"masc_fem_acc_pl_anim_error rate on dev\", masc_fem_acc_pl_anim_error / dev_masc_fem_acc_pl_total)\n",
    "    \n",
    "    if nost_total > 0:\n",
    "        print(\"nost_anim_error\", nost_anim_error, 'of', nost_total)#neut_acc_sg_anim_error /neut_acc_sg_total )\n",
    "        print(\"nost_total\", nost_total)\n",
    "        print(\"nost_anim_error rate on dev\", nost_anim_error / nost_total)\n",
    "    \n",
    "    print('found', found, 'paradigm entries for N;ACC;SG/PL of', total)\n",
    "    print(\"sanity check\", sum(list(class_counts)))"
   ]
  },
  {
   "cell_type": "markdown",
   "metadata": {},
   "source": [
    "```\n",
    "(pytorch-seq2seq) david@Arjuna:~/bin/git/MED-pytorch$ grep \"N;ACC;ANIM\" data/russian/rus-fake-train.tsv | wc -l\n",
    "352\n",
    "(pytorch-seq2seq) david@Arjuna:~/bin/git/MED-pytorch$ grep \"N;ACC\" data/russian/rus-fake-train.tsv | wc -l\n",
    "33682\n",
    "(pytorch-seq2seq) david@Arjuna:~/bin/git/MED-pytorch$ grep \"N;ACC;SG\" data/russian/rus-fake-train.tsv | wc -l\n",
    "15507\n",
    "(pytorch-seq2seq) david@Arjuna:~/bin/git/MED-pytorch$ grep \"N;ACC;PL\" data/russian/rus-fake-train.tsv | wc -l\n",
    "12036\n",
    "(pytorch-seq2seq) david@Arjuna:~/bin/git/MED-pytorch$ grep \"OUT=N OUT=ACC OUT=ANIM\" data/russian/dev/data.txt | wc -l\n",
    "23\n",
    "(pytorch-seq2seq) david@Arjuna:~/bin/git/MED-pytorch$ grep \"OUT=N OUT=ACC\" data/russian/dev/data.txt | wc -l\n",
    "1514\n",
    "(pytorch-seq2seq) david@Arjuna:~/bin/git/MED-pytorch$ grep \"OUT=N OUT=ACC OUT=SG\" data/russian/dev/data.txt | wc -l\n",
    "827\n",
    "(pytorch-seq2seq) david@Arjuna:~/bin/git/MED-pytorch$ grep \"OUT=N OUT=ACC OUT=PL\" data/russian/dev/data.txt | wc -l\n",
    "647\n",
    "```"
   ]
  },
  {
   "cell_type": "code",
   "execution_count": 46,
   "metadata": {},
   "outputs": [
    {
     "name": "stdout",
     "output_type": "stream",
     "text": [
      "masc_acc_sg_anim_error 49 of 387\n",
      "masc_acc_sg_total 49\n",
      "masc_acc_sg_anim_error rate on dev 0.12661498708010335\n",
      "fem_acc_sg_anim_error 1 of 237\n",
      "fem_acc_sg_total 8\n",
      "fem_acc_sg_anim_error rate on dev 0.004219409282700422\n",
      "neut_acc_sg_anim_error 2 of 131\n",
      "neut_acc_sg_total 2\n",
      "neut_acc_sg_anim_error rate on dev 0.015267175572519083\n",
      "masc_fem_acc_sg_anim_error 1 of 76\n",
      "masc_fem_acc_sg_total 1\n",
      "masc_fem_acc_sg_anim_error rate on dev 0.013157894736842105\n",
      "masc_acc_pl_anim_error 35 of 325\n",
      "masc_acc_pl_total 35\n",
      "masc_acc_pl_anim_error rate on dev 0.1076923076923077\n",
      "fem_acc_pl_anim_error 26 of 199\n",
      "fem_acc_pl_total 26\n",
      "fem_acc_pl_anim_error rate on dev 0.1306532663316583\n",
      "masc_fem_acc_pl_anim_error 0 of 54\n",
      "masc_fem_acc_pl_total 0\n",
      "masc_fem_acc_pl_anim_error rate on dev 0.0\n",
      "found 121 paradigm entries for N;ACC;SG/PL of 401\n",
      "sanity check 1510\n"
     ]
    }
   ],
   "source": [
    "error_count(v_errors, train, dev, classes, paradigms)"
   ]
  },
  {
   "cell_type": "code",
   "execution_count": 47,
   "metadata": {},
   "outputs": [
    {
     "name": "stdout",
     "output_type": "stream",
     "text": [
      "masc_acc_sg_anim_error 87 of 387\n",
      "masc_acc_sg_total 87\n",
      "masc_acc_sg_anim_error rate on dev 0.2248062015503876\n",
      "fem_acc_sg_anim_error 4 of 237\n",
      "fem_acc_sg_total 14\n",
      "fem_acc_sg_anim_error rate on dev 0.016877637130801686\n",
      "neut_acc_sg_anim_error 2 of 131\n",
      "neut_acc_sg_total 2\n",
      "neut_acc_sg_anim_error rate on dev 0.015267175572519083\n",
      "masc_fem_acc_sg_anim_error 2 of 76\n",
      "masc_fem_acc_sg_total 2\n",
      "masc_fem_acc_sg_anim_error rate on dev 0.02631578947368421\n",
      "masc_acc_pl_anim_error 48 of 325\n",
      "masc_acc_pl_total 48\n",
      "masc_acc_pl_anim_error rate on dev 0.1476923076923077\n",
      "fem_acc_pl_anim_error 27 of 199\n",
      "fem_acc_pl_total 27\n",
      "fem_acc_pl_anim_error rate on dev 0.135678391959799\n",
      "masc_fem_acc_pl_anim_error 0 of 54\n",
      "masc_fem_acc_pl_total 0\n",
      "masc_fem_acc_pl_anim_error rate on dev 0.0\n",
      "found 180 paradigm entries for N;ACC;SG/PL of 425\n",
      "sanity check 1510\n"
     ]
    }
   ],
   "source": [
    "error_count(nv_errors, train, dev, classes, paradigms)"
   ]
  },
  {
   "cell_type": "code",
   "execution_count": 65,
   "metadata": {},
   "outputs": [],
   "source": [
    "def train_dist(train, classes):\n",
    "    masc_acc_sg = 0\n",
    "    masc_acc_pl = 0\n",
    "    total_n = 0\n",
    "    train.seek(0)\n",
    "    for line in train:\n",
    "        # line = line.split('\\t')[0]\n",
    "        if line.startswith('OUT=N'):\n",
    "            total_n += 1\n",
    "            lemma, features, form = input_to_vars(line.split('\\t'))\n",
    "            if line.startswith('OUT=N OUT=ACC OUT=SG') and lemma[-1] in classes.masc:\n",
    "                masc_acc_sg += 1\n",
    "            elif line.startswith('OUT=N OUT=ACC OUT=PL') and lemma[-1] in classes.masc:\n",
    "                masc_acc_pl += 1\n",
    "            # else:\n",
    "                # print(lemma, features, form)\n",
    "    print(\"masc acc sg\", masc_acc_sg)\n",
    "    print(\"masc acc pl\", masc_acc_pl)\n",
    "    print(\"total ns\", total_n)"
   ]
  },
  {
   "cell_type": "code",
   "execution_count": 66,
   "metadata": {},
   "outputs": [
    {
     "name": "stdout",
     "output_type": "stream",
     "text": [
      "masc acc sg 150\n",
      "masc acc pl 159\n",
      "total ns 4719\n"
     ]
    }
   ],
   "source": [
    "train_dist(train, classes)"
   ]
  }
 ],
 "metadata": {
  "kernelspec": {
   "display_name": "Python 3",
   "language": "python",
   "name": "python3"
  },
  "language_info": {
   "codemirror_mode": {
    "name": "ipython",
    "version": 3
   },
   "file_extension": ".py",
   "mimetype": "text/x-python",
   "name": "python",
   "nbconvert_exporter": "python",
   "pygments_lexer": "ipython3",
   "version": "3.6.7"
  },
  "varInspector": {
   "cols": {
    "lenName": 16,
    "lenType": 16,
    "lenVar": 40
   },
   "kernels_config": {
    "python": {
     "delete_cmd_postfix": "",
     "delete_cmd_prefix": "del ",
     "library": "var_list.py",
     "varRefreshCmd": "print(var_dic_list())"
    },
    "r": {
     "delete_cmd_postfix": ") ",
     "delete_cmd_prefix": "rm(",
     "library": "var_list.r",
     "varRefreshCmd": "cat(var_dic_list()) "
    }
   },
   "types_to_exclude": [
    "module",
    "function",
    "builtin_function_or_method",
    "instance",
    "_Feature"
   ],
   "window_display": false
  }
 },
 "nbformat": 4,
 "nbformat_minor": 1
}
